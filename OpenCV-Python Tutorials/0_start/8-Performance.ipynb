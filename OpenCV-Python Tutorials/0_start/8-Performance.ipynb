{
 "nbformat": 4,
 "nbformat_minor": 2,
 "metadata": {
  "language_info": {
   "name": "python",
   "codemirror_mode": {
    "name": "ipython",
    "version": 3
   },
   "version": "3.6.9-final"
  },
  "orig_nbformat": 2,
  "file_extension": ".py",
  "mimetype": "text/x-python",
  "name": "python",
  "npconvert_exporter": "python",
  "pygments_lexer": "ipython3",
  "version": 3,
  "kernelspec": {
   "name": "python36964bitenvvirtualenv7cb7e33bb9ef4ddbb654ba9826cf2cf9",
   "display_name": "Python 3.6.9 64-bit ('env': virtualenv)"
  }
 },
 "cells": [
  {
   "cell_type": "code",
   "execution_count": 4,
   "metadata": {},
   "outputs": [
    {
     "output_type": "stream",
     "name": "stdout",
     "text": "241 ns ± 7.5 ns per loop (mean ± std. dev. of 7 runs, 1000000 loops each)\n113 ns ± 0.434 ns per loop (mean ± std. dev. of 7 runs, 10000000 loops each)\n923 ns ± 2.16 ns per loop (mean ± std. dev. of 7 runs, 1000000 loops each)\n947 ns ± 3.5 ns per loop (mean ± std. dev. of 7 runs, 1000000 loops each)\n"
    }
   ],
   "source": [
    "\n",
    "In [10]: x = 5\n",
    "\n",
    "In [11]: %timeit y=x**2\n",
    " \n",
    "\n",
    "In [12]: %timeit y=x*x\n",
    " \n",
    "import numpy as np\n",
    "In [15]: z = np.uint8([5])\n",
    "\n",
    "In [17]: %timeit y=z*z\n",
    " \n",
    "\n",
    "In [19]: %timeit y=np.square(z)\n",
    " "
   ]
  },
  {
   "cell_type": "code",
   "execution_count": null,
   "metadata": {},
   "outputs": [],
   "source": []
  }
 ]
}